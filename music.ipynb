{
 "cells": [
  {
   "cell_type": "code",
   "execution_count": 42,
   "id": "29085eb3-99a8-4aec-acb5-076cb7337a0a",
   "metadata": {},
   "outputs": [
    {
     "data": {
      "text/plain": [
       "'100.0%'"
      ]
     },
     "execution_count": 42,
     "metadata": {},
     "output_type": "execute_result"
    }
   ],
   "source": [
    "import pandas as pd\n",
    "from sklearn.tree import DecisionTreeClassifier\n",
    "from sklearn.model_selection import train_test_split\n",
    "from sklearn.metrics import accuracy_score\n",
    "import joblib\n",
    "\n",
    "# read data from music.csv\n",
    "music_data = pd.read_csv(\"music.csv\")\n",
    "\n",
    "# seperate data into input (data that will be provided), and output (data that is to be predicated)\n",
    "x = music_data.drop(columns=['genre'])\n",
    "y = music_data['genre']\n",
    "\n",
    "# split data\n",
    "x_train, x_test, y_train, y_test = train_test_split(x,y, test_size=0.2)\n",
    "\n",
    "# select ML model\n",
    "# model = DecisionTreeClassifier()\n",
    "\n",
    "# train model\n",
    "# model.fit(x_train.values, y_train)\n",
    "\n",
    "# Save a model (It creates a binary file)\n",
    "# joblib.dump(model, 'music-recommeder.joblib')\n",
    "\n",
    "# load already existing model\n",
    "model = joblib.load('music-recommeder.joblib')\n",
    "\n",
    "# make a prediction\n",
    "predictions = model.predict(x_test.values)\n",
    "\n",
    "# Measure accuracy\n",
    "score = accuracy_score(y_test, predictions)\n",
    "str(score * 100) + \"%\""
   ]
  },
  {
   "cell_type": "code",
   "execution_count": 52,
   "id": "b18f9751-2189-407d-8750-5e0e6fe44116",
   "metadata": {},
   "outputs": [],
   "source": [
    "from sklearn import tree\n",
    "from sklearn.tree import DecisionTreeClassifier\n",
    "import pandas as pd\n",
    "# from sklearn\n",
    "\n",
    "music_data = pd.read_csv('music.csv')\n",
    "x = music_data.drop(columns=['genre'])\n",
    "y = music_data['genre']\n",
    "\n",
    "model = DecisionTreeClassifier()\n",
    "model.fit(x, y)\n",
    "\n",
    "tree.export_graphviz(\n",
    "    model, \n",
    "    out_file = \"music-recommender.dot\",\n",
    "    feature_names = [\"age\", \"gender\"],\n",
    "    class_names = sorted(y.unique()),\n",
    "    label='all',\n",
    "    rounded=True,\n",
    "    filled=True\n",
    ")"
   ]
  },
  {
   "cell_type": "code",
   "execution_count": null,
   "id": "a49b0b85-7a21-4cdf-b60c-a04114dcd36d",
   "metadata": {},
   "outputs": [],
   "source": []
  }
 ],
 "metadata": {
  "kernelspec": {
   "display_name": "Python 3 (ipykernel)",
   "language": "python",
   "name": "python3"
  },
  "language_info": {
   "codemirror_mode": {
    "name": "ipython",
    "version": 3
   },
   "file_extension": ".py",
   "mimetype": "text/x-python",
   "name": "python",
   "nbconvert_exporter": "python",
   "pygments_lexer": "ipython3",
   "version": "3.12.4"
  }
 },
 "nbformat": 4,
 "nbformat_minor": 5
}
